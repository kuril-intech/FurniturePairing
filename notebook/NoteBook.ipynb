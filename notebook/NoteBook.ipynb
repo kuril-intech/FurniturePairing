{
 "cells": [
  {
   "cell_type": "code",
   "execution_count": 29,
   "metadata": {},
   "outputs": [],
   "source": [
    "import tensorflow as tf\n",
    "import pandas as pd\n",
    "import numpy as np\n",
    "import matplotlib.pyplot as plt\n",
    "import pymysql\n",
    "import io\n",
    "import sys\n",
    "import tensorflow_recommenders as tfrs\n",
    "\n",
    "from detection import generate_download_signed_url_v4\n",
    "from detection import get_similar_products_uri\n",
    "from detection import query_product\n",
    "\n",
    "from tensorflow.keras import backend\n",
    "from tensorflow.keras.layers import Dense, Flatten\n",
    "from tensorflow.keras.optimizers import SGD\n",
    "from tensorflow.keras.applications import InceptionV3\n",
    "from tensorflow.keras.applications.vgg16 import VGG16\n",
    "from tensorflow.keras.models import Model, load_model\n",
    "from tensorflow.keras.preprocessing.image import ImageDataGenerator\n",
    "\n",
    "from google.cloud import storage\n",
    "from google.cloud import vision\n",
    "from urllib.parse import urlparse\n",
    "from sklearn.model_selection import train_test_split\n",
    "from sklearn.preprocessing import LabelBinarizer\n",
    "from PIL import Image"
   ]
  },
  {
   "cell_type": "code",
   "execution_count": 6,
   "metadata": {},
   "outputs": [],
   "source": [
    "#Setup Connection to mysql database\n",
    "conn = pymysql.connect(\n",
    "    host='35.221.181.94',\n",
    "    port=int(3306),\n",
    "    user=\"mkhoa\",\n",
    "    passwd='NTMK261194@dng',\n",
    "    db=\"project\",\n",
    "    charset='utf8mb4')\n",
    "\n",
    "cur = conn.cursor()\n",
    "\n",
    "def query_item2room():\n",
    "    '''\n",
    "    Make dataframe for ImageDataGenerator\n",
    "    \n",
    "    '''\n",
    "    query = f'''\n",
    "    SELECT a.room, a.room_path, a.item, b.bucket, b.bucket_path\n",
    "    FROM project.item2room a\n",
    "    LEFT JOIN project.Files b ON a.item = b.id\n",
    "    WHERE b.bucket_path like '%Products%'\n",
    "    '''\n",
    "    try:\n",
    "        cur.execute(query)\n",
    "    except Exception as err:\n",
    "        print('ERROR BY SELECT:', err)\n",
    "    result = cur.fetchall()\n",
    "    result = pd.DataFrame(result, columns=['RoomID', 'RoomPath', 'ItemID', 'Bucket', 'BucketPath'])\n",
    "    return result\n",
    "\n",
    "def query_classes():\n",
    "    '''\n",
    "    Query for list of distinct room\n",
    "    \n",
    "    '''\n",
    "    query = f'''\n",
    "    SELECT distinct room\n",
    "    FROM project.item2room\n",
    "    '''\n",
    "    try:\n",
    "        cur.execute(query)\n",
    "    except Exception as err:\n",
    "        print('ERROR BY SELECT:', err)\n",
    "    result = cur.fetchall()\n",
    "    result = pd.DataFrame(result, columns=['RoomID'])\n",
    "    return result"
   ]
  },
  {
   "cell_type": "code",
   "execution_count": 7,
   "metadata": {},
   "outputs": [],
   "source": [
    "item2room = query_item2room()"
   ]
  },
  {
   "cell_type": "code",
   "execution_count": 8,
   "metadata": {},
   "outputs": [],
   "source": [
    "classes = query_classes()"
   ]
  },
  {
   "cell_type": "code",
   "execution_count": 9,
   "metadata": {},
   "outputs": [],
   "source": [
    "df = item2room[['RoomID', 'BucketPath']]\n",
    "df_train, df_test = train_test_split(df, test_size=0.1)"
   ]
  },
  {
   "cell_type": "code",
   "execution_count": 10,
   "metadata": {},
   "outputs": [
    {
     "data": {
      "text/html": [
       "<div>\n",
       "<style scoped>\n",
       "    .dataframe tbody tr th:only-of-type {\n",
       "        vertical-align: middle;\n",
       "    }\n",
       "\n",
       "    .dataframe tbody tr th {\n",
       "        vertical-align: top;\n",
       "    }\n",
       "\n",
       "    .dataframe thead th {\n",
       "        text-align: right;\n",
       "    }\n",
       "</style>\n",
       "<table border=\"1\" class=\"dataframe\">\n",
       "  <thead>\n",
       "    <tr style=\"text-align: right;\">\n",
       "      <th></th>\n",
       "      <th>RoomID</th>\n",
       "      <th>BucketPath</th>\n",
       "    </tr>\n",
       "  </thead>\n",
       "  <tbody>\n",
       "    <tr>\n",
       "      <th>130</th>\n",
       "      <td>30573</td>\n",
       "      <td>Images/Products/203793-0-903.347.30.jpg</td>\n",
       "    </tr>\n",
       "    <tr>\n",
       "      <th>157</th>\n",
       "      <td>30709</td>\n",
       "      <td>Images/Products/204202-0-391.505.88.jpg</td>\n",
       "    </tr>\n",
       "    <tr>\n",
       "      <th>158</th>\n",
       "      <td>30664</td>\n",
       "      <td>Images/Products/204221-0-702.858.58.jpg</td>\n",
       "    </tr>\n",
       "    <tr>\n",
       "      <th>12</th>\n",
       "      <td>30598</td>\n",
       "      <td>Images/Products/202816-0-502.954.72.jpg</td>\n",
       "    </tr>\n",
       "    <tr>\n",
       "      <th>8</th>\n",
       "      <td>30482</td>\n",
       "      <td>Images/Products/202549-0-490.473.41.jpg</td>\n",
       "    </tr>\n",
       "    <tr>\n",
       "      <th>...</th>\n",
       "      <td>...</td>\n",
       "      <td>...</td>\n",
       "    </tr>\n",
       "    <tr>\n",
       "      <th>90</th>\n",
       "      <td>30665</td>\n",
       "      <td>Images/Products/203457-0-802.340.19.jpg</td>\n",
       "    </tr>\n",
       "    <tr>\n",
       "      <th>195</th>\n",
       "      <td>30717</td>\n",
       "      <td>Images/Products/204384-0-902.874.13.jpg</td>\n",
       "    </tr>\n",
       "    <tr>\n",
       "      <th>32</th>\n",
       "      <td>30604</td>\n",
       "      <td>Images/Products/203063-0-201.150.38.jpg</td>\n",
       "    </tr>\n",
       "    <tr>\n",
       "      <th>147</th>\n",
       "      <td>30708</td>\n",
       "      <td>Images/Products/204114-0-802.396.82.jpg</td>\n",
       "    </tr>\n",
       "    <tr>\n",
       "      <th>15</th>\n",
       "      <td>30625</td>\n",
       "      <td>Images/Products/202858-0-502.580.40.jpg</td>\n",
       "    </tr>\n",
       "  </tbody>\n",
       "</table>\n",
       "<p>176 rows × 2 columns</p>\n",
       "</div>"
      ],
      "text/plain": [
       "     RoomID                               BucketPath\n",
       "130   30573  Images/Products/203793-0-903.347.30.jpg\n",
       "157   30709  Images/Products/204202-0-391.505.88.jpg\n",
       "158   30664  Images/Products/204221-0-702.858.58.jpg\n",
       "12    30598  Images/Products/202816-0-502.954.72.jpg\n",
       "8     30482  Images/Products/202549-0-490.473.41.jpg\n",
       "..      ...                                      ...\n",
       "90    30665  Images/Products/203457-0-802.340.19.jpg\n",
       "195   30717  Images/Products/204384-0-902.874.13.jpg\n",
       "32    30604  Images/Products/203063-0-201.150.38.jpg\n",
       "147   30708  Images/Products/204114-0-802.396.82.jpg\n",
       "15    30625  Images/Products/202858-0-502.580.40.jpg\n",
       "\n",
       "[176 rows x 2 columns]"
      ]
     },
     "execution_count": 10,
     "metadata": {},
     "output_type": "execute_result"
    }
   ],
   "source": [
    "df_train"
   ]
  },
  {
   "cell_type": "code",
   "execution_count": 11,
   "metadata": {},
   "outputs": [],
   "source": [
    "project_id = 'abstract-veld-289612'\n",
    "bucket_name = 'ftmle'\n",
    "storage_client = storage.Client.from_service_account_json(\"./Credentials/abstract-veld-289612-327ddac80eba.json\")"
   ]
  },
  {
   "cell_type": "code",
   "execution_count": 12,
   "metadata": {},
   "outputs": [],
   "source": [
    "# Fit multi-label binarizer on the training set\n",
    "lb = LabelBinarizer()\n",
    "lb.fit(df_train['RoomID'])\n",
    "\n",
    "# Print out label map \n",
    "#print('Labels: ')\n",
    "label_map = {}\n",
    "for i, label in enumerate(lb.classes_):\n",
    "    label_map[i] = label\n",
    "    #print('{}. {}'.format(i, label))\n",
    "\n",
    "# Define num. of labels \n",
    "N_LABELS = len(lb.classes_)\n",
    "\n",
    "# Fit multi-label binarizer on the training set\n",
    "y_train = lb.transform(df_train['RoomID'])\n",
    "y_val = lb.transform(df_test['RoomID'])"
   ]
  },
  {
   "cell_type": "code",
   "execution_count": 13,
   "metadata": {},
   "outputs": [],
   "source": [
    "X_train = df_train['BucketPath'].values\n",
    "X_test = df_test['BucketPath'].values"
   ]
  },
  {
   "cell_type": "code",
   "execution_count": 14,
   "metadata": {},
   "outputs": [],
   "source": [
    "Y_train =  y_train\n",
    "Y_test =  y_val"
   ]
  },
  {
   "cell_type": "code",
   "execution_count": 15,
   "metadata": {},
   "outputs": [],
   "source": [
    "def load_bucket_image(path):\n",
    "    '''\n",
    "    Load GCS iamge from bucket\n",
    "    \n",
    "    '''\n",
    "    path = str(path.numpy().decode(\"utf-8\"))\n",
    "    blob = storage_client.bucket(bucket_name).get_blob(path)\n",
    "    img = blob.download_as_string()\n",
    "\n",
    "    return img\n",
    "\n",
    "def preprocess_image(bucket_path):\n",
    "    '''\n",
    "    Preprocess image from bucket path\n",
    "    \n",
    "    '''\n",
    "    img = tf.py_function(load_bucket_image, [bucket_path], tf.string)\n",
    "    img = tf.image.decode_image(img, channels=3, expand_animations = False)\n",
    "    img = tf.image.resize(img, (244, 244))\n",
    "    img = img/255\n",
    "    \n",
    "    return img\n",
    "\n",
    "# The tuples are unpacked into the positional arguments of the mapped function\n",
    "def load_and_preprocess_from_path_label(path, label):\n",
    "  return preprocess_image(path), label"
   ]
  },
  {
   "cell_type": "code",
   "execution_count": 16,
   "metadata": {},
   "outputs": [],
   "source": [
    "ds_train = tf.data.Dataset.from_tensor_slices((X_train, Y_train))\n",
    "ds_train_map = ds_train.map(load_and_preprocess_from_path_label)"
   ]
  },
  {
   "cell_type": "code",
   "execution_count": 17,
   "metadata": {},
   "outputs": [],
   "source": [
    "ds_test = tf.data.Dataset.from_tensor_slices((X_test, Y_test))\n",
    "ds_test_map = ds_test.map(load_and_preprocess_from_path_label)"
   ]
  },
  {
   "cell_type": "code",
   "execution_count": 18,
   "metadata": {},
   "outputs": [],
   "source": [
    "#Parameter\n",
    "BATCH_SIZE = 32\n",
    "AUTOTUNE = tf.data.experimental.AUTOTUNE\n",
    "final_train_dataset = ds_train_map.batch(BATCH_SIZE).prefetch(tf.data.experimental.AUTOTUNE)\n",
    "final_test_dataset = ds_test_map.batch(BATCH_SIZE).prefetch(tf.data.experimental.AUTOTUNE)"
   ]
  },
  {
   "cell_type": "code",
   "execution_count": 19,
   "metadata": {},
   "outputs": [
    {
     "data": {
      "text/plain": [
       "<PrefetchDataset shapes: ((None, 244, 244, None), (None, 125)), types: (tf.float32, tf.int64)>"
      ]
     },
     "execution_count": 19,
     "metadata": {},
     "output_type": "execute_result"
    }
   ],
   "source": [
    "final_train_dataset"
   ]
  },
  {
   "cell_type": "code",
   "execution_count": 20,
   "metadata": {},
   "outputs": [],
   "source": [
    "# define cnn model\n",
    "def create_model(in_shape=(244, 244, 3), out_shape=N_LABELS):\n",
    "    # load model\n",
    "    model = VGG16(include_top=False, input_shape=in_shape)\n",
    "    # mark loaded layers as not trainable\n",
    "    for layer in model.layers:\n",
    "        layer.trainable = False\n",
    "    # allow last vgg block to be trainable\n",
    "    model.get_layer('block5_conv1').trainable = True\n",
    "    model.get_layer('block5_conv2').trainable = True\n",
    "    model.get_layer('block5_conv3').trainable = True\n",
    "    model.get_layer('block5_pool').trainable = True\n",
    "    # add new classifier layers\n",
    "    flat1 = Flatten()(model.layers[-1].output)\n",
    "    class1 = Dense(244, activation='relu', kernel_initializer='he_uniform')(flat1)\n",
    "    output = Dense(out_shape, activation='sigmoid')(class1)\n",
    "    # define new model\n",
    "    model = Model(inputs=model.inputs, outputs=output)\n",
    "    # compile model\n",
    "    opt = SGD(lr=0.01, momentum=0.9)\n",
    "    model.compile(optimizer=opt, loss='binary_crossentropy', metrics='acc')\n",
    "    return model"
   ]
  },
  {
   "cell_type": "code",
   "execution_count": 21,
   "metadata": {},
   "outputs": [
    {
     "name": "stdout",
     "output_type": "stream",
     "text": [
      "Downloading data from https://storage.googleapis.com/tensorflow/keras-applications/vgg16/vgg16_weights_tf_dim_ordering_tf_kernels_notop.h5\n",
      "58892288/58889256 [==============================] - 7s 0us/step\n"
     ]
    }
   ],
   "source": [
    "model = create_model()"
   ]
  },
  {
   "cell_type": "code",
   "execution_count": 22,
   "metadata": {},
   "outputs": [
    {
     "name": "stdout",
     "output_type": "stream",
     "text": [
      "WARNING:tensorflow:From <ipython-input-22-a14f649e727c>:6: Model.fit_generator (from tensorflow.python.keras.engine.training) is deprecated and will be removed in a future version.\n",
      "Instructions for updating:\n",
      "Please use Model.fit, which supports generators.\n",
      "Epoch 1/10\n",
      "6/6 [==============================] - 33s 5s/step - loss: 0.5740 - acc: 0.0057 - val_loss: 0.3965 - val_acc: 0.0000e+00\n",
      "Epoch 2/10\n",
      "6/6 [==============================] - 31s 5s/step - loss: 0.3095 - acc: 0.0057 - val_loss: 0.1285 - val_acc: 0.0000e+00\n",
      "Epoch 3/10\n",
      "6/6 [==============================] - 31s 5s/step - loss: 0.0892 - acc: 0.0057 - val_loss: 0.0347 - val_acc: 0.0000e+00\n",
      "Epoch 4/10\n",
      "6/6 [==============================] - 30s 5s/step - loss: 0.0655 - acc: 0.0000e+00 - val_loss: 0.0383 - val_acc: 0.0000e+00\n",
      "Epoch 5/10\n",
      "6/6 [==============================] - 31s 5s/step - loss: 0.0711 - acc: 0.0057 - val_loss: 0.0372 - val_acc: 0.0000e+00\n",
      "Epoch 6/10\n",
      "6/6 [==============================] - 30s 5s/step - loss: 0.0652 - acc: 0.0170 - val_loss: 0.0343 - val_acc: 0.0000e+00\n",
      "Epoch 7/10\n",
      "6/6 [==============================] - 31s 5s/step - loss: 0.0581 - acc: 0.0227 - val_loss: 0.0328 - val_acc: 0.0000e+00\n",
      "Epoch 8/10\n",
      "6/6 [==============================] - 30s 5s/step - loss: 0.0538 - acc: 0.0341 - val_loss: 0.0322 - val_acc: 0.0000e+00\n",
      "Epoch 9/10\n",
      "6/6 [==============================] - 30s 5s/step - loss: 0.0515 - acc: 0.0398 - val_loss: 0.0316 - val_acc: 0.0000e+00\n",
      "Epoch 10/10\n",
      "6/6 [==============================] - 30s 5s/step - loss: 0.0499 - acc: 0.0511 - val_loss: 0.0308 - val_acc: 0.0000e+00\n"
     ]
    }
   ],
   "source": [
    "history = model.fit_generator(final_train_dataset, \n",
    "    steps_per_epoch=len(final_train_dataset),\n",
    "    validation_data=final_test_dataset, \n",
    "    validation_steps=len(final_test_dataset), \n",
    "    epochs=10, \n",
    "    verbose=1)"
   ]
  },
  {
   "cell_type": "code",
   "execution_count": 23,
   "metadata": {},
   "outputs": [],
   "source": [
    "model.save('model.h5')"
   ]
  },
  {
   "cell_type": "code",
   "execution_count": null,
   "metadata": {},
   "outputs": [],
   "source": []
  }
 ],
 "metadata": {
  "kernelspec": {
   "display_name": "Python 3",
   "language": "python",
   "name": "python3"
  },
  "language_info": {
   "codemirror_mode": {
    "name": "ipython",
    "version": 3
   },
   "file_extension": ".py",
   "mimetype": "text/x-python",
   "name": "python",
   "nbconvert_exporter": "python",
   "pygments_lexer": "ipython3",
   "version": "3.8.5"
  }
 },
 "nbformat": 4,
 "nbformat_minor": 4
}
