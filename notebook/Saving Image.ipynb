{
 "cells": [
  {
   "cell_type": "code",
   "execution_count": 53,
   "metadata": {},
   "outputs": [],
   "source": [
    "import urllib\n",
    "import pymysql\n",
    "import os\n",
    "import pandas as pd\n",
    "\n",
    "from google.cloud import storage\n",
    "from urllib.parse import urlparse"
   ]
  },
  {
   "cell_type": "code",
   "execution_count": 109,
   "metadata": {},
   "outputs": [],
   "source": [
    "project_id = 'optical-scarab-285012'\n",
    "bucket_name = 'mle-project'\n",
    "path = 'Images/Thumbnails/'\n",
    "storage_client = storage.client.Client(project=project_id)"
   ]
  },
  {
   "cell_type": "code",
   "execution_count": 111,
   "metadata": {},
   "outputs": [],
   "source": [
    "def upload_blob(bucket_name, url, path, prefix):   \n",
    "    file = urllib.request.urlopen(url)\n",
    "    content_type = file.info().get_content_type()\n",
    "    file_name = os.path.basename(urlparse(url).path)\n",
    "    dest = path + str(prefix) + '-' + file_name\n",
    "    \n",
    "    bucket = storage_client.get_bucket(bucket_name)\n",
    "    blob = bucket.blob(dest)\n",
    "\n",
    "    blob.upload_from_string(file.read(), content_type=content_type)\n",
    "    \n",
    "    return dest"
   ]
  },
  {
   "cell_type": "code",
   "execution_count": 106,
   "metadata": {},
   "outputs": [],
   "source": [
    "#Setup Connection to mysql database\n",
    "conn = pymysql.connect(\n",
    "    host='localhost',\n",
    "    port=int(3306),\n",
    "    user=\"root\",\n",
    "    passwd='NTMK261194@dng',\n",
    "    db=\"project\",\n",
    "    charset='utf8mb4')\n",
    "\n",
    "cur = conn.cursor()\n",
    "\n",
    "def query_url():\n",
    "    '''\n",
    "    \n",
    "    '''\n",
    "    query = '''\n",
    "    SELECT id, image\n",
    "    FROM project.ProductHeader\n",
    "    WHERE image like 'http%';;\n",
    "    '''\n",
    "    try:\n",
    "        cur.execute(query)\n",
    "    except Exception as err:\n",
    "        print('ERROR BY INSERT:', err)\n",
    "    result = cur.fetchall()\n",
    "    return result\n",
    "\n",
    "def insert_filepath(id, url, bucket, bucket_path):\n",
    "    '''\n",
    "    \n",
    "    '''\n",
    "    query = f'''\n",
    "    INSERT INTO Files(id, url, bucket, bucket_path)\n",
    "    VALUES('{id}', '{url}', '{bucket}', '{bucket_path}');\n",
    "    '''\n",
    "    try:\n",
    "        cur.execute(query)\n",
    "        conn.commit()\n",
    "    except Exception as err:\n",
    "        print('ERROR BY INSERT:', err)"
   ]
  },
  {
   "cell_type": "code",
   "execution_count": 89,
   "metadata": {},
   "outputs": [],
   "source": [
    "df = pd.DataFrame(query_url(), columns=['id', 'url'])"
   ]
  },
  {
   "cell_type": "code",
   "execution_count": 90,
   "metadata": {},
   "outputs": [],
   "source": [
    "df = df[:5]"
   ]
  },
  {
   "cell_type": "code",
   "execution_count": 110,
   "metadata": {},
   "outputs": [
    {
     "name": "stdout",
     "output_type": "stream",
     "text": [
      "Uploaded1892\n",
      "Recorded1892\n",
      "Uploaded1893\n",
      "Recorded1893\n",
      "Uploaded1894\n",
      "Recorded1894\n",
      "Uploaded1895\n",
      "Recorded1895\n",
      "Uploaded1896\n",
      "Recorded1896\n"
     ]
    }
   ],
   "source": [
    "for i in df.values:\n",
    "    id = i[0]\n",
    "    url = i[1]\n",
    "    filepath = upload_blob(bucket_name, url, path, id)\n",
    "    print('Uploaded' + str(id))\n",
    "    insert_filepath(id, url, bucket_name, filepath)\n",
    "    print('Recorded' + str(id))"
   ]
  },
  {
   "cell_type": "code",
   "execution_count": null,
   "metadata": {},
   "outputs": [],
   "source": []
  }
 ],
 "metadata": {
  "kernelspec": {
   "display_name": "Python 3",
   "language": "python",
   "name": "python3"
  },
  "language_info": {
   "codemirror_mode": {
    "name": "ipython",
    "version": 3
   },
   "file_extension": ".py",
   "mimetype": "text/x-python",
   "name": "python",
   "nbconvert_exporter": "python",
   "pygments_lexer": "ipython3",
   "version": "3.8.2"
  }
 },
 "nbformat": 4,
 "nbformat_minor": 4
}
