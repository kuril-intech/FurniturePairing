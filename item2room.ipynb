{
 "cells": [
  {
   "cell_type": "code",
   "execution_count": 37,
   "metadata": {},
   "outputs": [],
   "source": [
    "import pandas as pd\n",
    "import os\n",
    "import sys\n",
    "import datetime\n",
    "import urllib\n",
    "import numpy as np\n",
    "import cv2\n",
    "import pymysql\n",
    "import json\n",
    "\n",
    "from pathlib import Path\n",
    "from enum import Enum\n",
    "from io import BytesIO, StringIO\n",
    "from typing import Union\n",
    "\n",
    "from detection import upload_to_gcs\n",
    "from detection import generate_download_signed_url_v4\n",
    "from detection import get_similar_products_uri\n",
    "from detection import query_product"
   ]
  },
  {
   "cell_type": "code",
   "execution_count": 2,
   "metadata": {},
   "outputs": [],
   "source": [
    "project_id = 'abstract-veld-289612'\n",
    "location = 'asia-east1'\n",
    "product_set_id = 'PAIR-Filter'\n",
    "bucket_name = 'ftmle'\n",
    "product_category= 'homegoods-v2'"
   ]
  },
  {
   "cell_type": "code",
   "execution_count": 3,
   "metadata": {},
   "outputs": [],
   "source": [
    "def search_product(bucket_name, blob_name):\n",
    "    serving_url = generate_download_signed_url_v4(bucket_name, blob_name)\n",
    "    res = get_similar_products_uri(project_id, location, product_set_id, product_category,\n",
    "        image_uri=serving_url, filter='')\n",
    "    return res, serving_url"
   ]
  },
  {
   "cell_type": "code",
   "execution_count": 48,
   "metadata": {},
   "outputs": [],
   "source": [
    "#Setup Connection to mysql database\n",
    "conn = pymysql.connect(\n",
    "    host='35.221.181.94',\n",
    "    port=int(3306),\n",
    "    user=\"mkhoa\",\n",
    "    passwd='NTMK261194@dng',\n",
    "    db=\"project\",\n",
    "    charset='utf8mb4')\n",
    "\n",
    "cur = conn.cursor()\n",
    "\n",
    "def query_room():\n",
    "    '''\n",
    "    \n",
    "    '''\n",
    "    query = '''\n",
    "    SELECT a.id as 'room_id', a.subtitle as 'room_type', b.bucket_path\n",
    "    FROM project.DesignsDetail a\n",
    "    LEFT JOIN Files b ON a.id = b.id\n",
    "    WHERE b.bucket_path like '%/Design/%'\n",
    "    '''\n",
    "    try:\n",
    "        cur.execute(query)\n",
    "    except Exception as err:\n",
    "        print('ERROR BY SELECT:', err)\n",
    "    result = cur.fetchall()\n",
    "    return result\n",
    "\n",
    "def insert_design2item(room_id, idx_results, product_id, score):\n",
    "    '''\n",
    "    \n",
    "    '''\n",
    "    query = f'''\n",
    "    INSERT INTO design2item(room_id, idx_results, product_id, score)\n",
    "    VALUES('{room_id}', '{idx_results}', '{product_id}', '{score}');\n",
    "    '''\n",
    "    try:\n",
    "        cur.execute(query)\n",
    "        conn.commit()\n",
    "    except Exception as err:\n",
    "        print('ERROR BY INSERT:', err)"
   ]
  },
  {
   "cell_type": "code",
   "execution_count": 5,
   "metadata": {},
   "outputs": [],
   "source": [
    "room = pd.DataFrame(query_room(), columns=['room_id', 'room_type', 'bucket_path'])"
   ]
  },
  {
   "cell_type": "code",
   "execution_count": 6,
   "metadata": {},
   "outputs": [],
   "source": [
    "test = room[:3]"
   ]
  },
  {
   "cell_type": "code",
   "execution_count": 7,
   "metadata": {},
   "outputs": [
    {
     "data": {
      "text/plain": [
       "array([[5325, 'Contemporary Living Room, Omaha',\n",
       "        'Images/Design/5325-home-design.jpg'],\n",
       "       [5326, 'Transitional Living Room',\n",
       "        'Images/Design/5326-home-design.jpg'],\n",
       "       [5327, 'Contemporary Living Room, Los Angeles',\n",
       "        'Images/Design/5327-home-design.jpg']], dtype=object)"
      ]
     },
     "execution_count": 7,
     "metadata": {},
     "output_type": "execute_result"
    }
   ],
   "source": [
    "test.values"
   ]
  },
  {
   "cell_type": "code",
   "execution_count": 49,
   "metadata": {},
   "outputs": [],
   "source": [
    "for idx, row in test.iterrows():\n",
    "    blob = row['bucket_path']\n",
    "    room_id = row['room_id']\n",
    "    res, serving_uri = search_product(bucket_name, blob)\n",
    "    for i in range(len(res)):\n",
    "        for j in range(len(res[i].results)):\n",
    "            product_id = res[i].results[j].product.name.split('/')[-1]\n",
    "            score = res[i].results[j].score\n",
    "            insert_design2item(room_id, i, product_id, score)"
   ]
  },
  {
   "cell_type": "code",
   "execution_count": 136,
   "metadata": {},
   "outputs": [],
   "source": [
    "result = []\n",
    "for i in range(len(res)):    \n",
    "    for j in range(len(res[i].results)):\n",
    "        d = {}\n",
    "        d['object'] = i\n",
    "        d['idx'] = int(res[i].results[j].product.name.split('/', -1)[-1])\n",
    "        d['name'] = res[i].results[j].product.display_name\n",
    "        d['score'] = res[i].results[j].score\n",
    "        result.append(d)"
   ]
  },
  {
   "cell_type": "code",
   "execution_count": 137,
   "metadata": {},
   "outputs": [],
   "source": [
    "df = pd.DataFrame(result)"
   ]
  },
  {
   "cell_type": "code",
   "execution_count": 131,
   "metadata": {},
   "outputs": [],
   "source": [
    "def query_product(id):\n",
    "    '''\n",
    "    \n",
    "    '''\n",
    "    query = f'''\n",
    "    SELECT id, website, product, image, url, b.group_category \n",
    "    FROM project.ProductHeader a\n",
    "    LEFT JOIN project.category b ON a.category = b.Category\n",
    "    WHERE id = '{id}'\n",
    "    '''\n",
    "    try:\n",
    "        cur.execute(query)\n",
    "    except Exception as err:\n",
    "        print('ERROR BY INSERT:', err)\n",
    "    result = cur.fetchone()\n",
    "    return result"
   ]
  },
  {
   "cell_type": "code",
   "execution_count": 135,
   "metadata": {},
   "outputs": [],
   "source": [
    "query = pd.DataFrame(df['idx'].apply(query_product).tolist(), columns=['idx', 'Website', 'Product Name', 'Image', 'URL', 'Category'])"
   ]
  },
  {
   "cell_type": "code",
   "execution_count": 142,
   "metadata": {},
   "outputs": [],
   "source": [
    "result = df.merge(query)"
   ]
  },
  {
   "cell_type": "code",
   "execution_count": 148,
   "metadata": {},
   "outputs": [
    {
     "name": "stdout",
     "output_type": "stream",
     "text": [
      "Bench\n",
      "Object\n",
      "Pillows\n",
      "Table\n",
      "Chair\n",
      "Bed\n",
      "Sofa\n",
      "Lighting\n"
     ]
    }
   ],
   "source": [
    "for i in result['Category'].unique():\n",
    "    print(i)"
   ]
  }
 ],
 "metadata": {
  "kernelspec": {
   "display_name": "Python 3",
   "language": "python",
   "name": "python3"
  },
  "language_info": {
   "codemirror_mode": {
    "name": "ipython",
    "version": 3
   },
   "file_extension": ".py",
   "mimetype": "text/x-python",
   "name": "python",
   "nbconvert_exporter": "python",
   "pygments_lexer": "ipython3",
   "version": "3.8.5"
  }
 },
 "nbformat": 4,
 "nbformat_minor": 4
}
