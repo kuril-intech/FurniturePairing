{
 "cells": [
  {
   "cell_type": "code",
   "execution_count": 1,
   "metadata": {},
   "outputs": [],
   "source": [
    "import pandas as pd\n",
    "import os\n",
    "import sys\n",
    "import datetime\n",
    "import urllib\n",
    "import numpy as np\n",
    "import cv2\n",
    "import pymysql\n",
    "import json\n",
    "\n",
    "from pathlib import Path\n",
    "from enum import Enum\n",
    "from io import BytesIO, StringIO\n",
    "from typing import Union\n",
    "\n",
    "from detection import upload_to_gcs\n",
    "from detection import generate_download_signed_url_v4\n",
    "from detection import get_similar_products_uri\n",
    "from detection import query_product"
   ]
  },
  {
   "cell_type": "code",
   "execution_count": 2,
   "metadata": {},
   "outputs": [],
   "source": [
    "project_id = 'abstract-veld-289612'\n",
    "location = 'asia-east1'\n",
    "product_set_id = 'PAIR-Filter'\n",
    "bucket_name = 'ftmle'\n",
    "product_category= 'homegoods-v2'"
   ]
  },
  {
   "cell_type": "code",
   "execution_count": 3,
   "metadata": {},
   "outputs": [],
   "source": [
    "def search_product(bucket_name, blob_name):\n",
    "    serving_url = generate_download_signed_url_v4(bucket_name, blob_name)\n",
    "    res = get_similar_products_uri(project_id, location, product_set_id, product_category,\n",
    "        image_uri=serving_url, filter='')\n",
    "    return res, serving_url"
   ]
  },
  {
   "cell_type": "code",
   "execution_count": 19,
   "metadata": {},
   "outputs": [],
   "source": [
    "#Setup Connection to mysql database\n",
    "conn = pymysql.connect(\n",
    "    host='35.221.181.94',\n",
    "    port=int(3306),\n",
    "    user=\"mkhoa\",\n",
    "    passwd='NTMK261194@dng',\n",
    "    db=\"project\",\n",
    "    charset='utf8mb4')\n",
    "\n",
    "cur = conn.cursor()\n",
    "\n",
    "def query_room():\n",
    "    '''\n",
    "    \n",
    "    '''\n",
    "    query = '''\n",
    "    SELECT a.id as 'room_id', a.subtitle as 'room_type', b.bucket_path\n",
    "    FROM project.DesignsDetail a\n",
    "    LEFT JOIN Files b ON a.id = b.id\n",
    "    LEFT JOIN design2item c ON a.id = c.room_id\n",
    "    WHERE b.bucket_path like '%/Design/%' \n",
    "    AND (a.subtitle like '%Living%' OR a.subtitle like '%Dining%' OR a.subtitle like '%Bedroom%')\n",
    "    AND c.room_id is null\n",
    "    '''\n",
    "    try:\n",
    "        cur.execute(query)\n",
    "    except Exception as err:\n",
    "        print('ERROR BY SELECT:', err)\n",
    "    result = cur.fetchall()\n",
    "    return result\n",
    "\n",
    "def insert_design2item(room_id, idx_results, product_id, score):\n",
    "    '''\n",
    "    \n",
    "    '''\n",
    "    query = f'''\n",
    "    INSERT INTO design2item(room_id, idx_results, product_id, score)\n",
    "    VALUES('{room_id}', '{idx_results}', '{product_id}', '{score}');\n",
    "    '''\n",
    "    try:\n",
    "        cur.execute(query)\n",
    "        conn.commit()\n",
    "    except Exception as err:\n",
    "        print('ERROR BY INSERT:', err)"
   ]
  },
  {
   "cell_type": "code",
   "execution_count": 20,
   "metadata": {},
   "outputs": [],
   "source": [
    "room = pd.DataFrame(query_room(), columns=['room_id', 'room_type', 'bucket_path'])"
   ]
  },
  {
   "cell_type": "code",
   "execution_count": 21,
   "metadata": {},
   "outputs": [
    {
     "data": {
      "text/html": [
       "<div>\n",
       "<style scoped>\n",
       "    .dataframe tbody tr th:only-of-type {\n",
       "        vertical-align: middle;\n",
       "    }\n",
       "\n",
       "    .dataframe tbody tr th {\n",
       "        vertical-align: top;\n",
       "    }\n",
       "\n",
       "    .dataframe thead th {\n",
       "        text-align: right;\n",
       "    }\n",
       "</style>\n",
       "<table border=\"1\" class=\"dataframe\">\n",
       "  <thead>\n",
       "    <tr style=\"text-align: right;\">\n",
       "      <th></th>\n",
       "      <th>room_id</th>\n",
       "      <th>room_type</th>\n",
       "      <th>bucket_path</th>\n",
       "    </tr>\n",
       "  </thead>\n",
       "  <tbody>\n",
       "    <tr>\n",
       "      <th>0</th>\n",
       "      <td>6017</td>\n",
       "      <td>Transitional Living Room, Orange County</td>\n",
       "      <td>Images/Design/6017-home-design.jpg</td>\n",
       "    </tr>\n",
       "    <tr>\n",
       "      <th>1</th>\n",
       "      <td>9730</td>\n",
       "      <td>Contemporary Living Room, Minneapolis</td>\n",
       "      <td>Images/Design/9730-home-design.jpg</td>\n",
       "    </tr>\n",
       "    <tr>\n",
       "      <th>2</th>\n",
       "      <td>9811</td>\n",
       "      <td>Transitional Living Room, Toronto</td>\n",
       "      <td>Images/Design/9811-home-design.jpg</td>\n",
       "    </tr>\n",
       "    <tr>\n",
       "      <th>3</th>\n",
       "      <td>20273</td>\n",
       "      <td>Modern Dining Room, Dallas</td>\n",
       "      <td>Images/Design/20273-home-design.jpg</td>\n",
       "    </tr>\n",
       "    <tr>\n",
       "      <th>4</th>\n",
       "      <td>20516</td>\n",
       "      <td>Craftsman Dining Room, Boston</td>\n",
       "      <td>Images/Design/20516-new-hampshire-lake-house-c...</td>\n",
       "    </tr>\n",
       "    <tr>\n",
       "      <th>...</th>\n",
       "      <td>...</td>\n",
       "      <td>...</td>\n",
       "      <td>...</td>\n",
       "    </tr>\n",
       "    <tr>\n",
       "      <th>5517</th>\n",
       "      <td>29337</td>\n",
       "      <td>Modern Bedroom, Hawaii</td>\n",
       "      <td>Images/Design/29337-kaikoo-place-hawaii-modern...</td>\n",
       "    </tr>\n",
       "    <tr>\n",
       "      <th>5518</th>\n",
       "      <td>6287</td>\n",
       "      <td>Traditional Living Room, Charlotte</td>\n",
       "      <td>Images/Design/6287-home-design.jpg</td>\n",
       "    </tr>\n",
       "    <tr>\n",
       "      <th>5519</th>\n",
       "      <td>20540</td>\n",
       "      <td>Modern Dining Room, New York</td>\n",
       "      <td>Images/Design/20540-tribeca-penthouse-lucy-har...</td>\n",
       "    </tr>\n",
       "    <tr>\n",
       "      <th>5520</th>\n",
       "      <td>22721</td>\n",
       "      <td>Traditional Dining Room</td>\n",
       "      <td>Images/Design/22721-tudor-revival-estate-full-...</td>\n",
       "    </tr>\n",
       "    <tr>\n",
       "      <th>5521</th>\n",
       "      <td>27976</td>\n",
       "      <td>Eclectic Bedroom, New York</td>\n",
       "      <td>Images/Design/27976-tribeca-loft-andrew-franz-...</td>\n",
       "    </tr>\n",
       "  </tbody>\n",
       "</table>\n",
       "<p>5522 rows × 3 columns</p>\n",
       "</div>"
      ],
      "text/plain": [
       "      room_id                                room_type  \\\n",
       "0        6017  Transitional Living Room, Orange County   \n",
       "1        9730    Contemporary Living Room, Minneapolis   \n",
       "2        9811        Transitional Living Room, Toronto   \n",
       "3       20273               Modern Dining Room, Dallas   \n",
       "4       20516            Craftsman Dining Room, Boston   \n",
       "...       ...                                      ...   \n",
       "5517    29337                   Modern Bedroom, Hawaii   \n",
       "5518     6287       Traditional Living Room, Charlotte   \n",
       "5519    20540             Modern Dining Room, New York   \n",
       "5520    22721                  Traditional Dining Room   \n",
       "5521    27976               Eclectic Bedroom, New York   \n",
       "\n",
       "                                            bucket_path  \n",
       "0                    Images/Design/6017-home-design.jpg  \n",
       "1                    Images/Design/9730-home-design.jpg  \n",
       "2                    Images/Design/9811-home-design.jpg  \n",
       "3                   Images/Design/20273-home-design.jpg  \n",
       "4     Images/Design/20516-new-hampshire-lake-house-c...  \n",
       "...                                                 ...  \n",
       "5517  Images/Design/29337-kaikoo-place-hawaii-modern...  \n",
       "5518                 Images/Design/6287-home-design.jpg  \n",
       "5519  Images/Design/20540-tribeca-penthouse-lucy-har...  \n",
       "5520  Images/Design/22721-tudor-revival-estate-full-...  \n",
       "5521  Images/Design/27976-tribeca-loft-andrew-franz-...  \n",
       "\n",
       "[5522 rows x 3 columns]"
      ]
     },
     "execution_count": 21,
     "metadata": {},
     "output_type": "execute_result"
    }
   ],
   "source": [
    "room"
   ]
  },
  {
   "cell_type": "code",
   "execution_count": null,
   "metadata": {},
   "outputs": [
    {
     "name": "stdout",
     "output_type": "stream",
     "text": [
      "0\n",
      "100\n",
      "200\n",
      "300\n",
      "400\n",
      "500\n",
      "600\n",
      "700\n",
      "800\n",
      "900\n",
      "1000\n",
      "1100\n",
      "1200\n"
     ]
    }
   ],
   "source": [
    "for idx, row in room.iterrows():\n",
    "    blob = row['bucket_path']\n",
    "    room_id = row['room_id']\n",
    "    res, serving_uri = search_product(bucket_name, blob)\n",
    "    if idx % 100 == 0:\n",
    "        print(idx)\n",
    "    for i in range(len(res)):\n",
    "        for j in range(len(res[i].results)):\n",
    "            try:\n",
    "                product_id = res[i].results[j].product.name.split('/')[-1]\n",
    "                score = res[i].results[j].score\n",
    "                insert_design2item(room_id, i, product_id, score)\n",
    "            except:\n",
    "                print(room_id)"
   ]
  },
  {
   "cell_type": "code",
   "execution_count": 136,
   "metadata": {},
   "outputs": [],
   "source": [
    "result = []\n",
    "for i in range(len(res)):    \n",
    "    for j in range(len(res[i].results)):\n",
    "        d = {}\n",
    "        d['object'] = i\n",
    "        d['idx'] = int(res[i].results[j].product.name.split('/', -1)[-1])\n",
    "        d['name'] = res[i].results[j].product.display_name\n",
    "        d['score'] = res[i].results[j].score\n",
    "        result.append(d)"
   ]
  },
  {
   "cell_type": "code",
   "execution_count": 137,
   "metadata": {},
   "outputs": [],
   "source": [
    "df = pd.DataFrame(result)"
   ]
  },
  {
   "cell_type": "code",
   "execution_count": 131,
   "metadata": {},
   "outputs": [],
   "source": [
    "def query_product(id):\n",
    "    '''\n",
    "    \n",
    "    '''\n",
    "    query = f'''\n",
    "    SELECT id, website, product, image, url, b.group_category \n",
    "    FROM project.ProductHeader a\n",
    "    LEFT JOIN project.category b ON a.category = b.Category\n",
    "    WHERE id = '{id}'\n",
    "    '''\n",
    "    try:\n",
    "        cur.execute(query)\n",
    "    except Exception as err:\n",
    "        print('ERROR BY INSERT:', err)\n",
    "    result = cur.fetchone()\n",
    "    return result"
   ]
  },
  {
   "cell_type": "code",
   "execution_count": 135,
   "metadata": {},
   "outputs": [],
   "source": [
    "query = pd.DataFrame(df['idx'].apply(query_product).tolist(), columns=['idx', 'Website', 'Product Name', 'Image', 'URL', 'Category'])"
   ]
  },
  {
   "cell_type": "code",
   "execution_count": 142,
   "metadata": {},
   "outputs": [],
   "source": [
    "result = df.merge(query)"
   ]
  },
  {
   "cell_type": "code",
   "execution_count": 148,
   "metadata": {},
   "outputs": [
    {
     "name": "stdout",
     "output_type": "stream",
     "text": [
      "Bench\n",
      "Object\n",
      "Pillows\n",
      "Table\n",
      "Chair\n",
      "Bed\n",
      "Sofa\n",
      "Lighting\n"
     ]
    }
   ],
   "source": [
    "for i in result['Category'].unique():\n",
    "    print(i)"
   ]
  }
 ],
 "metadata": {
  "kernelspec": {
   "display_name": "Python 3",
   "language": "python",
   "name": "python3"
  },
  "language_info": {
   "codemirror_mode": {
    "name": "ipython",
    "version": 3
   },
   "file_extension": ".py",
   "mimetype": "text/x-python",
   "name": "python",
   "nbconvert_exporter": "python",
   "pygments_lexer": "ipython3",
   "version": "3.8.5"
  }
 },
 "nbformat": 4,
 "nbformat_minor": 4
}
