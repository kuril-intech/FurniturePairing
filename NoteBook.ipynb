{
 "cells": [
  {
   "cell_type": "code",
   "execution_count": 1,
   "metadata": {},
   "outputs": [],
   "source": [
    "import tensorflow as tf\n",
    "import pandas as pd\n",
    "import numpy as np\n",
    "import matplotlib.pyplot as plt\n",
    "import pymysql\n",
    "import sys\n",
    "\n",
    "from detection import generate_download_signed_url_v4\n",
    "from detection import get_similar_products_uri\n",
    "from detection import query_product\n",
    "\n",
    "from tensorflow.keras import backend\n",
    "from tensorflow.keras.layers import Dense, Flatten\n",
    "from tensorflow.keras.optimizers import SGD\n",
    "from tensorflow.keras.applications import InceptionV3\n",
    "from tensorflow.keras.models import Model, load_model\n",
    "from tensorflow.keras.preprocessing.image import ImageDataGenerator\n",
    "\n",
    "from google.cloud import storage\n",
    "from google.cloud import vision\n",
    "from urllib.parse import urlparse\n",
    "from sklearn.model_selection import train_test_split\n",
    "from sklearn.preprocessing import LabelBinarizer"
   ]
  },
  {
   "cell_type": "code",
   "execution_count": 46,
   "metadata": {},
   "outputs": [],
   "source": [
    "#Setup Connection to mysql database\n",
    "conn = pymysql.connect(\n",
    "    host='35.221.181.94',\n",
    "    port=int(3306),\n",
    "    user=\"mkhoa\",\n",
    "    passwd='NTMK261194@dng',\n",
    "    db=\"project\",\n",
    "    charset='utf8mb4')\n",
    "\n",
    "cur = conn.cursor()\n",
    "\n",
    "def query_item2room():\n",
    "    '''\n",
    "    Make dataframe for ImageDataGenerator\n",
    "    \n",
    "    '''\n",
    "    query = f'''\n",
    "    SELECT a.room, a.room_path, a.item, b.bucket, b.bucket_path\n",
    "    FROM project.item2room a\n",
    "    LEFT JOIN project.Files b ON a.item = b.id\n",
    "    WHERE b.bucket_path like '%Products%'\n",
    "    '''\n",
    "    try:\n",
    "        cur.execute(query)\n",
    "    except Exception as err:\n",
    "        print('ERROR BY SELECT:', err)\n",
    "    result = cur.fetchall()\n",
    "    result = pd.DataFrame(result, columns=['RoomID', 'RoomPath', 'ItemID', 'Bucket', 'BucketPath'])\n",
    "    return result\n",
    "\n",
    "def query_classes():\n",
    "    '''\n",
    "    Query for list of distinct room\n",
    "    \n",
    "    '''\n",
    "    query = f'''\n",
    "    SELECT distinct room\n",
    "    FROM project.item2room\n",
    "    '''\n",
    "    try:\n",
    "        cur.execute(query)\n",
    "    except Exception as err:\n",
    "        print('ERROR BY SELECT:', err)\n",
    "    result = cur.fetchall()\n",
    "    result = pd.DataFrame(result, columns=['RoomID'])\n",
    "    return result"
   ]
  },
  {
   "cell_type": "code",
   "execution_count": 47,
   "metadata": {},
   "outputs": [],
   "source": [
    "item2room = query_item2room()"
   ]
  },
  {
   "cell_type": "code",
   "execution_count": 48,
   "metadata": {},
   "outputs": [],
   "source": [
    "classes = query_classes()"
   ]
  },
  {
   "cell_type": "code",
   "execution_count": 49,
   "metadata": {},
   "outputs": [],
   "source": [
    "df = item2room[['RoomID', 'BucketPath']]\n",
    "df_train, df_test = train_test_split(df, test_size=0.1)"
   ]
  },
  {
   "cell_type": "code",
   "execution_count": 50,
   "metadata": {},
   "outputs": [
    {
     "data": {
      "text/html": [
       "<div>\n",
       "<style scoped>\n",
       "    .dataframe tbody tr th:only-of-type {\n",
       "        vertical-align: middle;\n",
       "    }\n",
       "\n",
       "    .dataframe tbody tr th {\n",
       "        vertical-align: top;\n",
       "    }\n",
       "\n",
       "    .dataframe thead th {\n",
       "        text-align: right;\n",
       "    }\n",
       "</style>\n",
       "<table border=\"1\" class=\"dataframe\">\n",
       "  <thead>\n",
       "    <tr style=\"text-align: right;\">\n",
       "      <th></th>\n",
       "      <th>RoomID</th>\n",
       "      <th>BucketPath</th>\n",
       "    </tr>\n",
       "  </thead>\n",
       "  <tbody>\n",
       "    <tr>\n",
       "      <th>155</th>\n",
       "      <td>30707</td>\n",
       "      <td>Images/Products/204169-0-102.335.32.jpg</td>\n",
       "    </tr>\n",
       "    <tr>\n",
       "      <th>138</th>\n",
       "      <td>30571</td>\n",
       "      <td>Images/Products/203973-0-603.347.36.jpg</td>\n",
       "    </tr>\n",
       "    <tr>\n",
       "      <th>132</th>\n",
       "      <td>30615</td>\n",
       "      <td>Images/Products/203847-0-902.857.82.jpg</td>\n",
       "    </tr>\n",
       "    <tr>\n",
       "      <th>65</th>\n",
       "      <td>30483</td>\n",
       "      <td>Images/Products/203346-0-902.535.35.jpg</td>\n",
       "    </tr>\n",
       "    <tr>\n",
       "      <th>122</th>\n",
       "      <td>30684</td>\n",
       "      <td>Images/Products/203742-0-002.387.14.jpg</td>\n",
       "    </tr>\n",
       "    <tr>\n",
       "      <th>...</th>\n",
       "      <td>...</td>\n",
       "      <td>...</td>\n",
       "    </tr>\n",
       "    <tr>\n",
       "      <th>45</th>\n",
       "      <td>30634</td>\n",
       "      <td>Images/Products/203261-0-002.110.88.jpg</td>\n",
       "    </tr>\n",
       "    <tr>\n",
       "      <th>27</th>\n",
       "      <td>30702</td>\n",
       "      <td>Images/Products/203046-0-702.068.04.jpg</td>\n",
       "    </tr>\n",
       "    <tr>\n",
       "      <th>133</th>\n",
       "      <td>30492</td>\n",
       "      <td>Images/Products/203847-0-902.857.82.jpg</td>\n",
       "    </tr>\n",
       "    <tr>\n",
       "      <th>158</th>\n",
       "      <td>30664</td>\n",
       "      <td>Images/Products/204221-0-702.858.58.jpg</td>\n",
       "    </tr>\n",
       "    <tr>\n",
       "      <th>178</th>\n",
       "      <td>30716</td>\n",
       "      <td>Images/Products/204312-0-301.556.65.jpg</td>\n",
       "    </tr>\n",
       "  </tbody>\n",
       "</table>\n",
       "<p>176 rows × 2 columns</p>\n",
       "</div>"
      ],
      "text/plain": [
       "     RoomID                               BucketPath\n",
       "155   30707  Images/Products/204169-0-102.335.32.jpg\n",
       "138   30571  Images/Products/203973-0-603.347.36.jpg\n",
       "132   30615  Images/Products/203847-0-902.857.82.jpg\n",
       "65    30483  Images/Products/203346-0-902.535.35.jpg\n",
       "122   30684  Images/Products/203742-0-002.387.14.jpg\n",
       "..      ...                                      ...\n",
       "45    30634  Images/Products/203261-0-002.110.88.jpg\n",
       "27    30702  Images/Products/203046-0-702.068.04.jpg\n",
       "133   30492  Images/Products/203847-0-902.857.82.jpg\n",
       "158   30664  Images/Products/204221-0-702.858.58.jpg\n",
       "178   30716  Images/Products/204312-0-301.556.65.jpg\n",
       "\n",
       "[176 rows x 2 columns]"
      ]
     },
     "execution_count": 50,
     "metadata": {},
     "output_type": "execute_result"
    }
   ],
   "source": [
    "df_train"
   ]
  },
  {
   "cell_type": "code",
   "execution_count": 51,
   "metadata": {},
   "outputs": [],
   "source": [
    "project_id = 'abstract-veld-289612'\n",
    "bucket_name = 'ftmle'\n",
    "storage_client = storage.Client.from_service_account_json(\"./Credentials/abstract-veld-289612-327ddac80eba.json\")\n",
    "# tf.compat.v1.enable_eager_execution()"
   ]
  },
  {
   "cell_type": "code",
   "execution_count": 52,
   "metadata": {},
   "outputs": [],
   "source": [
    "# Fit multi-label binarizer on the training set\n",
    "lb = LabelBinarizer()\n",
    "lb.fit(df_train['RoomID'])\n",
    "\n",
    "# Print out label map \n",
    "#print('Labels: ')\n",
    "label_map = {}\n",
    "for i, label in enumerate(lb.classes_):\n",
    "    label_map[i] = label\n",
    "    #print('{}. {}'.format(i, label))\n",
    "\n",
    "# Define num. of labels \n",
    "N_LABELS = len(lb.classes_)\n",
    "\n",
    "# Fit multi-label binarizer on the training set\n",
    "y_train = lb.transform(df_train['RoomID'])\n",
    "y_val = lb.transform(df_test['RoomID'])"
   ]
  },
  {
   "cell_type": "code",
   "execution_count": 59,
   "metadata": {},
   "outputs": [],
   "source": [
    "X_train = df_train['BucketPath'].values\n",
    "X_test = df_test['BucketPath'].values"
   ]
  },
  {
   "cell_type": "code",
   "execution_count": 60,
   "metadata": {},
   "outputs": [],
   "source": [
    "Y_train =  y_train\n",
    "Y_test =  y_val"
   ]
  },
  {
   "cell_type": "code",
   "execution_count": 61,
   "metadata": {},
   "outputs": [],
   "source": [
    "def load_bucket_image(path):\n",
    "    path = str(path.numpy().decode(\"utf-8\"))\n",
    "    blob = storage_client.bucket(bucket_name).get_blob(path)\n",
    "    img = blob.download_as_string()\n",
    "    return img\n",
    "\n",
    "def preprocess_image(bucket_path):\n",
    "    '''\n",
    "    Load and preprocess image from bucket path\n",
    "    \n",
    "    '''\n",
    "    img = tf.py_function(load_bucket_image, [bucket_path], tf.string) \n",
    "    img = tf.image.decode_image(img, channels=3)\n",
    " \n",
    "    return img\n",
    "\n",
    "# The tuples are unpacked into the positional arguments of the mapped function\n",
    "\n",
    "def load_and_preprocess_from_path_label(path, label):\n",
    "  return preprocess_image(path), label"
   ]
  },
  {
   "cell_type": "code",
   "execution_count": 62,
   "metadata": {},
   "outputs": [],
   "source": [
    "ds_train = tf.data.Dataset.from_tensor_slices((X_train, Y_train))\n",
    "ds_train_map = ds_train.map(load_and_preprocess_from_path_label)"
   ]
  },
  {
   "cell_type": "code",
   "execution_count": 63,
   "metadata": {},
   "outputs": [],
   "source": [
    "ds_test = tf.data.Dataset.from_tensor_slices((X_test, Y_test))\n",
    "ds_test_map = ds_test.map(load_and_preprocess_from_path_label)"
   ]
  },
  {
   "cell_type": "code",
   "execution_count": null,
   "metadata": {},
   "outputs": [],
   "source": []
  }
 ],
 "metadata": {
  "kernelspec": {
   "display_name": "Python 3",
   "language": "python",
   "name": "python3"
  },
  "language_info": {
   "codemirror_mode": {
    "name": "ipython",
    "version": 3
   },
   "file_extension": ".py",
   "mimetype": "text/x-python",
   "name": "python",
   "nbconvert_exporter": "python",
   "pygments_lexer": "ipython3",
   "version": "3.8.5"
  }
 },
 "nbformat": 4,
 "nbformat_minor": 4
}
