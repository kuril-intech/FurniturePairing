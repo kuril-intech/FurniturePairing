{
 "cells": [
  {
   "cell_type": "code",
   "execution_count": 30,
   "metadata": {},
   "outputs": [],
   "source": [
    "import tensorflow as tf\n",
    "import pandas as pd\n",
    "import numpy as np\n",
    "import matplotlib.pyplot as plt\n",
    "import pymysql\n",
    "import io\n",
    "import sys\n",
    "\n",
    "from detection import generate_download_signed_url_v4\n",
    "from detection import get_similar_products_uri\n",
    "from detection import query_product\n",
    "\n",
    "from tensorflow.keras import backend\n",
    "from tensorflow.keras.layers import Dense, Flatten\n",
    "from tensorflow.keras.optimizers import SGD\n",
    "from tensorflow.keras.applications import InceptionV3\n",
    "from tensorflow.keras.applications.vgg16 import VGG16\n",
    "from tensorflow.keras.models import Model, load_model\n",
    "from tensorflow.keras.preprocessing.image import ImageDataGenerator\n",
    "\n",
    "from google.cloud import storage\n",
    "from google.cloud import vision\n",
    "from urllib.parse import urlparse\n",
    "from sklearn.model_selection import train_test_split\n",
    "from sklearn.preprocessing import LabelBinarizer\n",
    "from PIL import Image"
   ]
  },
  {
   "cell_type": "code",
   "execution_count": 31,
   "metadata": {},
   "outputs": [],
   "source": [
    "#Setup Connection to mysql database\n",
    "conn = pymysql.connect(\n",
    "    host='35.221.181.94',\n",
    "    port=int(3306),\n",
    "    user=\"mkhoa\",\n",
    "    passwd='NTMK261194@dng',\n",
    "    db=\"project\",\n",
    "    charset='utf8mb4')\n",
    "\n",
    "cur = conn.cursor()\n",
    "\n",
    "def query_item2room():\n",
    "    '''\n",
    "    Make dataframe for ImageDataGenerator\n",
    "    \n",
    "    '''\n",
    "    query = f'''\n",
    "    SELECT a.room, a.room_path, a.item, b.bucket, b.bucket_path\n",
    "    FROM project.item2room a\n",
    "    LEFT JOIN project.Files b ON a.item = b.id\n",
    "    WHERE b.bucket_path like '%Products%'\n",
    "    '''\n",
    "    try:\n",
    "        cur.execute(query)\n",
    "    except Exception as err:\n",
    "        print('ERROR BY SELECT:', err)\n",
    "    result = cur.fetchall()\n",
    "    result = pd.DataFrame(result, columns=['RoomID', 'RoomPath', 'ItemID', 'Bucket', 'BucketPath'])\n",
    "    return result\n",
    "\n",
    "def query_classes():\n",
    "    '''\n",
    "    Query for list of distinct room\n",
    "    \n",
    "    '''\n",
    "    query = f'''\n",
    "    SELECT distinct room\n",
    "    FROM project.item2room\n",
    "    '''\n",
    "    try:\n",
    "        cur.execute(query)\n",
    "    except Exception as err:\n",
    "        print('ERROR BY SELECT:', err)\n",
    "    result = cur.fetchall()\n",
    "    result = pd.DataFrame(result, columns=['RoomID'])\n",
    "    return result"
   ]
  },
  {
   "cell_type": "code",
   "execution_count": 32,
   "metadata": {},
   "outputs": [],
   "source": [
    "item2room = query_item2room()"
   ]
  },
  {
   "cell_type": "code",
   "execution_count": 33,
   "metadata": {},
   "outputs": [],
   "source": [
    "classes = query_classes()"
   ]
  },
  {
   "cell_type": "code",
   "execution_count": 34,
   "metadata": {},
   "outputs": [],
   "source": [
    "df = item2room[['RoomID', 'BucketPath']]\n",
    "df_train, df_test = train_test_split(df, test_size=0.1)"
   ]
  },
  {
   "cell_type": "code",
   "execution_count": 35,
   "metadata": {},
   "outputs": [
    {
     "data": {
      "text/html": [
       "<div>\n",
       "<style scoped>\n",
       "    .dataframe tbody tr th:only-of-type {\n",
       "        vertical-align: middle;\n",
       "    }\n",
       "\n",
       "    .dataframe tbody tr th {\n",
       "        vertical-align: top;\n",
       "    }\n",
       "\n",
       "    .dataframe thead th {\n",
       "        text-align: right;\n",
       "    }\n",
       "</style>\n",
       "<table border=\"1\" class=\"dataframe\">\n",
       "  <thead>\n",
       "    <tr style=\"text-align: right;\">\n",
       "      <th></th>\n",
       "      <th>RoomID</th>\n",
       "      <th>BucketPath</th>\n",
       "    </tr>\n",
       "  </thead>\n",
       "  <tbody>\n",
       "    <tr>\n",
       "      <th>38</th>\n",
       "      <td>30583</td>\n",
       "      <td>Images/Products/203171-0-502.345.82.jpg</td>\n",
       "    </tr>\n",
       "    <tr>\n",
       "      <th>149</th>\n",
       "      <td>30578</td>\n",
       "      <td>Images/Products/204115-0-202.396.99.jpg</td>\n",
       "    </tr>\n",
       "    <tr>\n",
       "      <th>92</th>\n",
       "      <td>30664</td>\n",
       "      <td>Images/Products/203457-0-802.340.19.jpg</td>\n",
       "    </tr>\n",
       "    <tr>\n",
       "      <th>161</th>\n",
       "      <td>30715</td>\n",
       "      <td>Images/Products/204265-0-302.858.55.jpg</td>\n",
       "    </tr>\n",
       "    <tr>\n",
       "      <th>84</th>\n",
       "      <td>30648</td>\n",
       "      <td>Images/Products/203408-0-702.535.41.jpg</td>\n",
       "    </tr>\n",
       "    <tr>\n",
       "      <th>...</th>\n",
       "      <td>...</td>\n",
       "      <td>...</td>\n",
       "    </tr>\n",
       "    <tr>\n",
       "      <th>128</th>\n",
       "      <td>30633</td>\n",
       "      <td>Images/Products/203783-0-802.251.66.jpg</td>\n",
       "    </tr>\n",
       "    <tr>\n",
       "      <th>45</th>\n",
       "      <td>30634</td>\n",
       "      <td>Images/Products/203261-0-002.110.88.jpg</td>\n",
       "    </tr>\n",
       "    <tr>\n",
       "      <th>121</th>\n",
       "      <td>30602</td>\n",
       "      <td>Images/Products/203739-0-001.185.23.jpg</td>\n",
       "    </tr>\n",
       "    <tr>\n",
       "      <th>150</th>\n",
       "      <td>30601</td>\n",
       "      <td>Images/Products/204124-0-902.396.67.jpg</td>\n",
       "    </tr>\n",
       "    <tr>\n",
       "      <th>10</th>\n",
       "      <td>30518</td>\n",
       "      <td>Images/Products/202803-0-802.418.16.jpg</td>\n",
       "    </tr>\n",
       "  </tbody>\n",
       "</table>\n",
       "<p>176 rows × 2 columns</p>\n",
       "</div>"
      ],
      "text/plain": [
       "     RoomID                               BucketPath\n",
       "38    30583  Images/Products/203171-0-502.345.82.jpg\n",
       "149   30578  Images/Products/204115-0-202.396.99.jpg\n",
       "92    30664  Images/Products/203457-0-802.340.19.jpg\n",
       "161   30715  Images/Products/204265-0-302.858.55.jpg\n",
       "84    30648  Images/Products/203408-0-702.535.41.jpg\n",
       "..      ...                                      ...\n",
       "128   30633  Images/Products/203783-0-802.251.66.jpg\n",
       "45    30634  Images/Products/203261-0-002.110.88.jpg\n",
       "121   30602  Images/Products/203739-0-001.185.23.jpg\n",
       "150   30601  Images/Products/204124-0-902.396.67.jpg\n",
       "10    30518  Images/Products/202803-0-802.418.16.jpg\n",
       "\n",
       "[176 rows x 2 columns]"
      ]
     },
     "execution_count": 35,
     "metadata": {},
     "output_type": "execute_result"
    }
   ],
   "source": [
    "df_train"
   ]
  },
  {
   "cell_type": "code",
   "execution_count": 36,
   "metadata": {},
   "outputs": [],
   "source": [
    "project_id = 'abstract-veld-289612'\n",
    "bucket_name = 'ftmle'\n",
    "storage_client = storage.Client.from_service_account_json(\"./Credentials/abstract-veld-289612-327ddac80eba.json\")"
   ]
  },
  {
   "cell_type": "code",
   "execution_count": 37,
   "metadata": {},
   "outputs": [],
   "source": [
    "# Fit multi-label binarizer on the training set\n",
    "lb = LabelBinarizer()\n",
    "lb.fit(df_train['RoomID'])\n",
    "\n",
    "# Print out label map \n",
    "#print('Labels: ')\n",
    "label_map = {}\n",
    "for i, label in enumerate(lb.classes_):\n",
    "    label_map[i] = label\n",
    "    #print('{}. {}'.format(i, label))\n",
    "\n",
    "# Define num. of labels \n",
    "N_LABELS = len(lb.classes_)\n",
    "\n",
    "# Fit multi-label binarizer on the training set\n",
    "y_train = lb.transform(df_train['RoomID'])\n",
    "y_val = lb.transform(df_test['RoomID'])"
   ]
  },
  {
   "cell_type": "code",
   "execution_count": 38,
   "metadata": {},
   "outputs": [],
   "source": [
    "X_train = df_train['BucketPath'].values\n",
    "X_test = df_test['BucketPath'].values"
   ]
  },
  {
   "cell_type": "code",
   "execution_count": 39,
   "metadata": {},
   "outputs": [],
   "source": [
    "Y_train =  y_train\n",
    "Y_test =  y_val"
   ]
  },
  {
   "cell_type": "code",
   "execution_count": 40,
   "metadata": {},
   "outputs": [],
   "source": [
    "def load_bucket_image(path):\n",
    "    '''\n",
    "    Load GCS iamge from bucket\n",
    "    \n",
    "    '''\n",
    "    path = str(path.numpy().decode(\"utf-8\"))\n",
    "    blob = storage_client.bucket(bucket_name).get_blob(path)\n",
    "    img = blob.download_as_string()\n",
    "\n",
    "    return img\n",
    "\n",
    "def preprocess_image(bucket_path):\n",
    "    '''\n",
    "    Preprocess image from bucket path\n",
    "    \n",
    "    '''\n",
    "    img = tf.py_function(load_bucket_image, [bucket_path], tf.string)\n",
    "    img = tf.image.decode_image(img, channels=3, expand_animations = False)\n",
    "    img = tf.image.resize(img, (244, 244))\n",
    "    img = img/255\n",
    "    \n",
    "    return img\n",
    "\n",
    "# The tuples are unpacked into the positional arguments of the mapped function\n",
    "def load_and_preprocess_from_path_label(path, label):\n",
    "  return preprocess_image(path), label"
   ]
  },
  {
   "cell_type": "code",
   "execution_count": 41,
   "metadata": {},
   "outputs": [],
   "source": [
    "ds_train = tf.data.Dataset.from_tensor_slices((X_train, Y_train))\n",
    "ds_train_map = ds_train.map(load_and_preprocess_from_path_label)"
   ]
  },
  {
   "cell_type": "code",
   "execution_count": 42,
   "metadata": {},
   "outputs": [],
   "source": [
    "ds_test = tf.data.Dataset.from_tensor_slices((X_test, Y_test))\n",
    "ds_test_map = ds_test.map(load_and_preprocess_from_path_label)"
   ]
  },
  {
   "cell_type": "code",
   "execution_count": 46,
   "metadata": {},
   "outputs": [],
   "source": [
    "#Parameter\n",
    "BATCH_SIZE = 32\n",
    "AUTOTUNE = tf.data.experimental.AUTOTUNE\n",
    "final_train_dataset = ds_train_map.batch(BATCH_SIZE).prefetch(tf.data.experimental.AUTOTUNE)\n",
    "final_test_dataset = ds_test_map.batch(BATCH_SIZE).prefetch(tf.data.experimental.AUTOTUNE)"
   ]
  },
  {
   "cell_type": "code",
   "execution_count": 48,
   "metadata": {},
   "outputs": [
    {
     "data": {
      "text/plain": [
       "<PrefetchDataset shapes: ((None, 244, 244, 3), (None, 132)), types: (tf.float32, tf.int64)>"
      ]
     },
     "execution_count": 48,
     "metadata": {},
     "output_type": "execute_result"
    }
   ],
   "source": [
    "final_train_dataset"
   ]
  },
  {
   "cell_type": "code",
   "execution_count": 49,
   "metadata": {},
   "outputs": [],
   "source": [
    "# define cnn model\n",
    "def create_model(in_shape=(244, 244, 3), out_shape=N_LABELS):\n",
    "    # load model\n",
    "    model = VGG16(include_top=False, input_shape=in_shape)\n",
    "    # mark loaded layers as not trainable\n",
    "    for layer in model.layers:\n",
    "        layer.trainable = False\n",
    "    # allow last vgg block to be trainable\n",
    "    model.get_layer('block5_conv1').trainable = True\n",
    "    model.get_layer('block5_conv2').trainable = True\n",
    "    model.get_layer('block5_conv3').trainable = True\n",
    "    model.get_layer('block5_pool').trainable = True\n",
    "    # add new classifier layers\n",
    "    flat1 = Flatten()(model.layers[-1].output)\n",
    "    class1 = Dense(244, activation='relu', kernel_initializer='he_uniform')(flat1)\n",
    "    output = Dense(out_shape, activation='sigmoid')(class1)\n",
    "    # define new model\n",
    "    model = Model(inputs=model.inputs, outputs=output)\n",
    "    # compile model\n",
    "    opt = SGD(lr=0.01, momentum=0.9)\n",
    "    model.compile(optimizer=opt, loss='binary_crossentropy', metrics='acc')\n",
    "    return model"
   ]
  },
  {
   "cell_type": "code",
   "execution_count": 50,
   "metadata": {},
   "outputs": [],
   "source": [
    "model = create_model()"
   ]
  },
  {
   "cell_type": "code",
   "execution_count": null,
   "metadata": {},
   "outputs": [],
   "source": [
    "history = model.fit_generator(final_train_dataset, \n",
    "    steps_per_epoch=len(final_train_dataset),\n",
    "    validation_data=final_test_dataset, \n",
    "    validation_steps=len(final_test_dataset), \n",
    "    epochs=10, \n",
    "    verbose=1)"
   ]
  },
  {
   "cell_type": "code",
   "execution_count": null,
   "metadata": {},
   "outputs": [],
   "source": []
  }
 ],
 "metadata": {
  "kernelspec": {
   "display_name": "Python 3",
   "language": "python",
   "name": "python3"
  },
  "language_info": {
   "codemirror_mode": {
    "name": "ipython",
    "version": 3
   },
   "file_extension": ".py",
   "mimetype": "text/x-python",
   "name": "python",
   "nbconvert_exporter": "python",
   "pygments_lexer": "ipython3",
   "version": "3.8.3"
  }
 },
 "nbformat": 4,
 "nbformat_minor": 4
}
